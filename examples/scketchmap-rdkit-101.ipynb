{
 "cells": [
  {
   "cell_type": "markdown",
   "metadata": {},
   "source": [
    "# Molecular Maps: PCA using RDKIT"
   ]
  },
  {
   "cell_type": "markdown",
   "metadata": {},
   "source": [
    "Author: AlvaroVM [https://alvarovm.github.io](http://alvarovm.github.io)\n",
    "Version: 0.0.1"
   ]
  },
  {
   "cell_type": "markdown",
   "metadata": {},
   "source": [
    "## Example 1: PCA to distinguish between rings and chains"
   ]
  },
  {
   "cell_type": "markdown",
   "metadata": {},
   "source": [
    "For this example we define in SMILES string two groups of molecules with different substituents, such as -CH3, -O, -F, -Cl, and- I , in molecules with six carbons 1) in a ring and 2) in chain. Those molecules would be added to a list, additionally we add a 'certain' property , this could be used later as a flag."
   ]
  },
  {
   "cell_type": "code",
   "execution_count": 1,
   "metadata": {},
   "outputs": [],
   "source": [
    "smile_ring=[\"Cc1ccccc1\", \"Oc1ccccc1\",\"Fc1ccccc1\",\"Clc1ccccc1\",\"Ic1ccccc1\"]\n",
    "values_ring = [1.2, 1.3, 1.4, 1.5, 1.6]\n",
    "smile_chain=[\"CC=CC=CC=C\",\"OC=CC=CC=C\",\"FC=CC=CC=C\",\"ClC=CC=CC=C\",\"IC=CC=CC=C\"]\n",
    "values_chain = [2.2, 2.3, 2.4, 2.5, 2.6]\n",
    "smile=[]\n",
    "values=[]\n",
    "smile= smile +smile_ring+smile_chain\n",
    "values=values +values_ring +values_chain\n",
    "#smile"
   ]
  },
  {
   "cell_type": "markdown",
   "metadata": {},
   "source": [
    "We load *rdkit*  and *numpy* "
   ]
  },
  {
   "cell_type": "code",
   "execution_count": 2,
   "metadata": {},
   "outputs": [],
   "source": [
    "from rdkit import Chem\n",
    "from rdkit.Chem import AllChem\n",
    "from rdkit import DataStructs \n",
    "from rdkit.Chem import Draw\n",
    "%matplotlib inline\n",
    "import matplotlib.pyplot as plt\n",
    "import numpy as np"
   ]
  },
  {
   "cell_type": "markdown",
   "metadata": {},
   "source": [
    "We create a list of RDKIT molecular objects, and we plot it. We expect to have two main groups in those molecules.  "
   ]
  },
  {
   "cell_type": "code",
   "execution_count": 3,
   "metadata": {},
   "outputs": [
    {
     "data": {
      "image/png": "[encoded data removed]",
      "text/plain": [
       "<PIL.PngImagePlugin.PngImageFile image mode=RGB size=500x200 at 0x7FCED6E51128>"
      ]
     },
     "execution_count": 3,
     "metadata": {},
     "output_type": "execute_result"
    }
   ],
   "source": [
    "molobj = [Chem.MolFromSmiles(smi) for smi in smile]\n",
    "#Draw.MolsToGridImage(molobj[:8],molsPerRow=4,subImgSize=(200,200),legends=[x.GetProp(\"_Name\") for x in molobj[:8]])\n",
    "Draw.MolsToGridImage(molobj,molsPerRow=5,subImgSize=(100,100))"
   ]
  },
  {
   "cell_type": "markdown",
   "metadata": {},
   "source": [
    "We create a list of RDKIT molecular objects and compute the Morgan Finger Print (here with 1024 bits and radii 2), and we produce a distance matrix (covariance matrix) using the Tanimoto similarity."
   ]
  },
  {
   "cell_type": "code",
   "execution_count": 4,
   "metadata": {},
   "outputs": [],
   "source": [
    "def get_molcov(mobj):\n",
    "    fps = [AllChem.GetMorganFingerprintAsBitVect(mol, 2, nBits=1024) for mol in mobj]\n",
    "    \n",
    "    dists = []\n",
    "    nfps = len(fps)\n",
    "    cov_mat = np.zeros((nfps,nfps))\n",
    "\n",
    "    for i in range(0,nfps):\n",
    "        for j in range(0, nfps):\n",
    "            cov_mat[i,j]  =  DataStructs.FingerprintSimilarity(fps[i],fps[j], metric=DataStructs.TanimotoSimilarity)\n",
    "    return  cov_mat"
   ]
  },
  {
   "cell_type": "code",
   "execution_count": 5,
   "metadata": {},
   "outputs": [],
   "source": [
    "distmat = get_molcov(molobj)"
   ]
  },
  {
   "cell_type": "code",
   "execution_count": 6,
   "metadata": {},
   "outputs": [],
   "source": [
    "#for m in molobj: tmp=AllChem.Compute2DCoords(m)"
   ]
  },
  {
   "cell_type": "code",
   "execution_count": null,
   "metadata": {},
   "outputs": [],
   "source": [
    "#molobj[6].GetBondWithIdx(0).GetBondType()\n",
    "#molobj[6].GetBondWithIdx(0).GetIsAromatic()"
   ]
  },
  {
   "cell_type": "code",
   "execution_count": null,
   "metadata": {},
   "outputs": [],
   "source": [
    "#for e in molobj:\n",
    "    #print (e.GetRingInfo().NumAtomRings(1))\n",
    "    #print (e.GetBondWithIdx(1).GetIsAromatic())"
   ]
  },
  {
   "cell_type": "markdown",
   "metadata": {},
   "source": [
    "Then we compute the eigen vectors and eigen values of the distance matrix using numpy."
   ]
  },
  {
   "cell_type": "code",
   "execution_count": 7,
   "metadata": {},
   "outputs": [
    {
     "name": "stdout",
     "output_type": "stream",
     "text": [
      "Eigen Values\n",
      " [0.64591942 0.53463614 2.49335373 2.78442405 0.53463614 0.64591942\n",
      " 0.64591942 0.64591942 0.53463614 0.53463614]\n"
     ]
    }
   ],
   "source": [
    "eival, eivec = np.linalg.eig(distmat)\n",
    "print (\"Eigen Values\\n\", eival)"
   ]
  },
  {
   "cell_type": "markdown",
   "metadata": {},
   "source": [
    "Optionally we can verify that the eigen vectors are normalized."
   ]
  },
  {
   "cell_type": "code",
   "execution_count": null,
   "metadata": {},
   "outputs": [],
   "source": [
    "#for ev in eivec:\n",
    "#    print (np.linalg.norm(ev))"
   ]
  },
  {
   "cell_type": "markdown",
   "metadata": {},
   "source": [
    "We need to sort the most relevant vectors which would has the most highest eigen values. To this purpose we pair Eigen Values and Eigen Vectors"
   ]
  },
  {
   "cell_type": "code",
   "execution_count": 8,
   "metadata": {},
   "outputs": [],
   "source": [
    "eig_pair = [(np.abs(eival[i]), eivec[:,i]) for i in range(len(eival))]"
   ]
  },
  {
   "cell_type": "markdown",
   "metadata": {},
   "source": [
    "And we sort those pairs"
   ]
  },
  {
   "cell_type": "code",
   "execution_count": 16,
   "metadata": {},
   "outputs": [
    {
     "name": "stdout",
     "output_type": "stream",
     "text": [
      "The two vectors with highest values:\n",
      " PC1: \n",
      " (2.784424048300737, array([-0.06757795, -0.06757795, -0.06757795, -0.06757795, -0.06757795,\n",
      "       -0.4420783 , -0.4420783 , -0.4420783 , -0.4420783 , -0.4420783 ])) \n",
      " PC2: \n",
      " (2.493353729477039, array([-0.4420783 , -0.4420783 , -0.4420783 , -0.4420783 , -0.4420783 ,\n",
      "        0.06757795,  0.06757795,  0.06757795,  0.06757795,  0.06757795]))\n"
     ]
    }
   ],
   "source": [
    "eig_pair.sort(key=lambda x : x[0], reverse=True)\n",
    "#two vectors with highest values\n",
    "print(\"The two vectors with highest values:\\n\",\n",
    "      \"PC1: \\n\", eig_pair[0],\"\\n\",\n",
    "      \"PC2: \\n\",eig_pair[1] )"
   ]
  },
  {
   "cell_type": "markdown",
   "metadata": {},
   "source": [
    "Create matrix"
   ]
  },
  {
   "cell_type": "code",
   "execution_count": 18,
   "metadata": {},
   "outputs": [],
   "source": [
    "nfps=len(molobj)\n",
    "matrix_w = np.hstack((eig_pair[0][1].reshape(nfps,1),\n",
    "                      eig_pair[1][1].reshape(nfps,1)))"
   ]
  },
  {
   "cell_type": "code",
   "execution_count": 20,
   "metadata": {},
   "outputs": [],
   "source": [
    "#matrix_w"
   ]
  },
  {
   "cell_type": "markdown",
   "metadata": {},
   "source": [
    "Now we plot the two principal components with higher eigenvalues. The points are colored with the property values we arbitarly defined above. In this plot clearly can be seen two features of two main molecular groups, molecules with a chain or with a ring."
   ]
  },
  {
   "cell_type": "code",
   "execution_count": 21,
   "metadata": {},
   "outputs": [
    {
     "data": {
      "image/png": "[encoded data removed]",
      "text/plain": [
       "<matplotlib.figure.Figure at 0x7fcecbe1b668>"
      ]
     },
     "metadata": {},
     "output_type": "display_data"
    }
   ],
   "source": [
    "plt.figure()\n",
    "plt.scatter(matrix_w[:, 0], matrix_w[:,1], marker='o', c=values[:])\n",
    "plt.xlabel('PC1')\n",
    "plt.ylabel('PC1')\n",
    "plt.title('Map rings vs chains: PC1 vs PC2')\n",
    "cbar = plt.colorbar()\n",
    "cbar.set_label('Values')"
   ]
  },
  {
   "cell_type": "markdown",
   "metadata": {},
   "source": [
    "Alternatively, it is possible to create a scatter plot with property values against PC1, and use PC1 as color."
   ]
  },
  {
   "cell_type": "code",
   "execution_count": 22,
   "metadata": {},
   "outputs": [
    {
     "data": {
      "image/png": "[encoded data removed]",
      "text/plain": [
       "<matplotlib.figure.Figure at 0x7fcecbe0f898>"
      ]
     },
     "metadata": {},
     "output_type": "display_data"
    }
   ],
   "source": [
    "plt.figure()\n",
    "plt.scatter(matrix_w[:, 0], values[:], marker='o', c=matrix_w[:,1])\n",
    "plt.xlabel('PC1')\n",
    "plt.ylabel('Val')\n",
    "plt.title('Map rings vs chains: PC1 vs Value')\n",
    "cbar = plt.colorbar()\n",
    "cbar.set_label('PC2')"
   ]
  },
  {
   "cell_type": "markdown",
   "metadata": {},
   "source": [
    "## Adding a molecule with a chain and a ring"
   ]
  },
  {
   "cell_type": "markdown",
   "metadata": {},
   "source": [
    "Now we add new molecule wich has both a chain and ring of carbons."
   ]
  },
  {
   "cell_type": "code",
   "execution_count": 23,
   "metadata": {},
   "outputs": [],
   "source": [
    "smile_hy=\"CC=CC=Cc1ccccc1\"\n",
    "values_hy=1.9\n",
    "#smile_hy"
   ]
  },
  {
   "cell_type": "code",
   "execution_count": 24,
   "metadata": {},
   "outputs": [
    {
     "data": {
      "image/png": "[encoded data removed]",
      "text/plain": [
       "<PIL.Image.Image image mode=RGB size=200x200 at 0x7FCECBE0FDA0>"
      ]
     },
     "execution_count": 24,
     "metadata": {},
     "output_type": "execute_result"
    }
   ],
   "source": [
    "m = Chem.MolFromSmiles(smile_hy)\n",
    "Draw.MolToImage(m, size=(200,200))"
   ]
  },
  {
   "cell_type": "markdown",
   "metadata": {},
   "source": [
    "We add the new molecular object to the origial `molobj` list and its respective value."
   ]
  },
  {
   "cell_type": "code",
   "execution_count": 25,
   "metadata": {},
   "outputs": [],
   "source": [
    "molobj.append(m)\n",
    "values.append(values_hy)"
   ]
  },
  {
   "cell_type": "markdown",
   "metadata": {},
   "source": [
    "And we run the same previous instructions for this new set. The new *hybri*  molecule should be located between the two groups of chains and rings.\n"
   ]
  },
  {
   "cell_type": "code",
   "execution_count": 26,
   "metadata": {},
   "outputs": [
    {
     "data": {
      "image/png": "[encoded data removed]",
      "text/plain": [
       "<matplotlib.figure.Figure at 0x7fcecbdfc710>"
      ]
     },
     "metadata": {},
     "output_type": "display_data"
    }
   ],
   "source": [
    "distmat_2 = get_molcov(molobj)\n",
    "eival, eivec = np.linalg.eig(distmat_2)\n",
    "eig_pair = [(np.abs(eival[i]), eivec[:,i]) for i in range(len(eival))]\n",
    "eig_pair.sort(key=lambda x : x[0], reverse=True)\n",
    "\n",
    "nfps=len(molobj)\n",
    "matrix_w = np.hstack((eig_pair[0][1].reshape(nfps,1),\n",
    "                      eig_pair[1][1].reshape(nfps,1)))\n",
    "\n",
    "plt.figure()\n",
    "plt.scatter(matrix_w[:, 0], values[:], marker='o', c=matrix_w[:,1])\n",
    "plt.xlabel('PC1')\n",
    "plt.ylabel('Val')\n",
    "plt.title('Map rings vs chains: PC1 vs Value')\n",
    "cbar = plt.colorbar()\n",
    "cbar.set_label('PC2')"
   ]
  },
  {
   "cell_type": "code",
   "execution_count": null,
   "metadata": {},
   "outputs": [],
   "source": []
  }
 ],
 "metadata": {
  "kernelspec": {
   "display_name": "chemchem36",
   "language": "python",
   "name": "chemchem36"
  },
  "language_info": {
   "codemirror_mode": {
    "name": "ipython",
    "version": 3
   },
   "file_extension": ".py",
   "mimetype": "text/x-python",
   "name": "python",
   "nbconvert_exporter": "python",
   "pygments_lexer": "ipython3",
   "version": "3.6.3"
  }
 },
 "nbformat": 4,
 "nbformat_minor": 2
}
